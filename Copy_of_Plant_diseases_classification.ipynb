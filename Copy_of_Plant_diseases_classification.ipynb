{
  "metadata": {
    "kernelspec": {
      "language": "python",
      "display_name": "Python 3",
      "name": "python3"
    },
    "language_info": {
      "pygments_lexer": "ipython3",
      "nbconvert_exporter": "python",
      "version": "3.6.4",
      "file_extension": ".py",
      "codemirror_mode": {
        "name": "ipython",
        "version": 3
      },
      "name": "python",
      "mimetype": "text/x-python"
    },
    "colab": {
      "provenance": [],
      "include_colab_link": true
    }
  },
  "nbformat_minor": 0,
  "nbformat": 4,
  "cells": [
    {
      "cell_type": "markdown",
      "metadata": {
        "id": "view-in-github",
        "colab_type": "text"
      },
      "source": [
        "<a href=\"https://colab.research.google.com/github/AdamJuma133/Crop-Plant-Disease-Identifier-Project/blob/main/Copy_of_Plant_diseases_classification.ipynb\" target=\"_parent\"><img src=\"https://colab.research.google.com/assets/colab-badge.svg\" alt=\"Open In Colab\"/></a>"
      ]
    },
    {
      "source": [
        "# IMPORTANT: RUN THIS CELL IN ORDER TO IMPORT YOUR KAGGLE DATA SOURCES,\n",
        "# THEN FEEL FREE TO DELETE THIS CELL.\n",
        "# NOTE: THIS NOTEBOOK ENVIRONMENT DIFFERS FROM KAGGLE'S PYTHON\n",
        "# ENVIRONMENT SO THERE MAY BE MISSING LIBRARIES USED BY YOUR\n",
        "# NOTEBOOK.\n",
        "import kagglehub\n",
        "abdallahalidev_plantvillage_dataset_path = kagglehub.dataset_download('abdallahalidev/plantvillage-dataset')\n",
        "\n",
        "print('Data source import complete.')"
      ],
      "metadata": {
        "id": "oXQN1TjC6JCw"
      },
      "cell_type": "code",
      "outputs": [],
      "execution_count": null
    },
    {
      "cell_type": "code",
      "source": [
        "#importing the necessary libraries\n",
        "import numpy as np\n",
        "import pandas as pd\n",
        "import tensorflow as tf\n",
        "from tensorflow import keras\n",
        "from keras.preprocessing.image import ImageDataGenerator\n",
        "from keras.preprocessing.image import image_dataset_from_directory\n",
        "from keras.layers import Conv2D, Dense, MaxPooling2D, Dropout,Flatten\n",
        "from keras.models import Model\n",
        "from keras.applications.vgg16 import VGG16"
      ],
      "metadata": {
        "_uuid": "8f2839f25d086af736a60e9eeb907d3b93b6e0e5",
        "_cell_guid": "b1076dfc-b9ad-4769-8c92-a6c4dae69d19",
        "execution": {
          "iopub.status.busy": "2021-12-24T08:39:14.535246Z",
          "iopub.execute_input": "2021-12-24T08:39:14.535786Z",
          "iopub.status.idle": "2021-12-24T08:39:14.542376Z",
          "shell.execute_reply.started": "2021-12-24T08:39:14.535747Z",
          "shell.execute_reply": "2021-12-24T08:39:14.541627Z"
        },
        "trusted": true,
        "id": "rI_E14RN6JCz"
      },
      "execution_count": null,
      "outputs": []
    },
    {
      "cell_type": "code",
      "source": [
        "# applying different data augumentation methods to the training data\n",
        "train_gen = ImageDataGenerator(\n",
        "    rescale = 1./255,\n",
        "    rotation_range = 30,\n",
        "    shear_range = 0.2,\n",
        "    zoom_range = 0.2,\n",
        "    width_shift_range=0.05,\n",
        "    height_shift_range=0.05,\n",
        "    horizontal_flip = True,\n",
        "    fill_mode = 'nearest',\n",
        "    validation_split = 0.2\n",
        ")\n",
        "\n",
        "valid_gen = ImageDataGenerator(\n",
        "    rescale = 1/255,\n",
        "    validation_split=0.2\n",
        ")"
      ],
      "metadata": {
        "execution": {
          "iopub.status.busy": "2021-12-24T08:45:17.366391Z",
          "iopub.execute_input": "2021-12-24T08:45:17.366654Z",
          "iopub.status.idle": "2021-12-24T08:45:17.372209Z",
          "shell.execute_reply.started": "2021-12-24T08:45:17.366622Z",
          "shell.execute_reply": "2021-12-24T08:45:17.371334Z"
        },
        "trusted": true,
        "id": "e2E2DHy76JC0"
      },
      "execution_count": null,
      "outputs": []
    },
    {
      "cell_type": "code",
      "source": [
        "Image_size = (255, 255)\n",
        "Batch_size = 32"
      ],
      "metadata": {
        "execution": {
          "iopub.status.busy": "2021-12-24T08:45:19.199959Z",
          "iopub.execute_input": "2021-12-24T08:45:19.200237Z",
          "iopub.status.idle": "2021-12-24T08:45:19.203775Z",
          "shell.execute_reply.started": "2021-12-24T08:45:19.200205Z",
          "shell.execute_reply": "2021-12-24T08:45:19.203104Z"
        },
        "trusted": true,
        "id": "8op71DSq6JC1"
      },
      "execution_count": null,
      "outputs": []
    },
    {
      "cell_type": "code",
      "source": [
        "#Loading the training and validation data from the director\n",
        "data_dir = \"../input/plantvillage-dataset/color\"\n",
        "train_generator = train_gen.flow_from_directory(\n",
        "    data_dir,\n",
        "    target_size = Image_size,\n",
        "    batch_size = Batch_size,\n",
        "    subset= \"training\",\n",
        "    class_mode = \"categorical\",\n",
        "    color_mode = \"rgb\"\n",
        "\n",
        ")\n",
        "\n",
        "valid_generator = valid_gen.flow_from_directory(\n",
        "    data_dir,\n",
        "    target_size = Image_size,\n",
        "    batch_size = Batch_size,\n",
        "    subset= \"validation\",\n",
        "    class_mode = \"categorical\",\n",
        "    color_mode = \"rgb\"\n",
        "\n",
        "\n",
        ")"
      ],
      "metadata": {
        "execution": {
          "iopub.status.busy": "2021-12-24T08:45:20.394701Z",
          "iopub.execute_input": "2021-12-24T08:45:20.394947Z",
          "iopub.status.idle": "2021-12-24T08:45:29.644291Z",
          "shell.execute_reply.started": "2021-12-24T08:45:20.394916Z",
          "shell.execute_reply": "2021-12-24T08:45:29.643571Z"
        },
        "trusted": true,
        "id": "m2oOEKZT6JC1"
      },
      "execution_count": null,
      "outputs": []
    },
    {
      "cell_type": "code",
      "source": [
        "model = VGG16(include_top=False, input_shape=(255,255,3), weights=\"imagenet\")\n",
        "for layer in model.layers:\n",
        "    layer.trainable = False\n",
        "x = Flatten()(model.output)\n",
        "dense1 = Dense(1024, activation=\"relu\")(x)\n",
        "prediction = Dense(38, activation=\"softmax\")(dense1)\n",
        "model = Model(inputs=model.inputs, outputs=prediction)"
      ],
      "metadata": {
        "execution": {
          "iopub.status.busy": "2021-12-24T08:45:29.645791Z",
          "iopub.execute_input": "2021-12-24T08:45:29.646187Z",
          "iopub.status.idle": "2021-12-24T08:45:29.932089Z",
          "shell.execute_reply.started": "2021-12-24T08:45:29.646147Z",
          "shell.execute_reply": "2021-12-24T08:45:29.931375Z"
        },
        "trusted": true,
        "id": "dOUfbvJK6JC2"
      },
      "execution_count": null,
      "outputs": []
    },
    {
      "cell_type": "code",
      "source": [
        "model.compile(\n",
        "    optimizer = 'adam',\n",
        "    loss = tf.keras.losses.CategoricalCrossentropy(),\n",
        "    metrics  = ['accuracy']\n",
        "    )"
      ],
      "metadata": {
        "execution": {
          "iopub.status.busy": "2021-12-24T08:45:32.189141Z",
          "iopub.execute_input": "2021-12-24T08:45:32.189841Z",
          "iopub.status.idle": "2021-12-24T08:45:32.201866Z",
          "shell.execute_reply.started": "2021-12-24T08:45:32.189794Z",
          "shell.execute_reply": "2021-12-24T08:45:32.201041Z"
        },
        "trusted": true,
        "id": "7AsJhUYC6JC3"
      },
      "execution_count": null,
      "outputs": []
    },
    {
      "cell_type": "code",
      "source": [
        "history = model.fit_generator(\n",
        "        train_generator,\n",
        "        steps_per_epoch = train_generator.n // train_generator.batch_size,    #The 2 slashes division return rounded integer\n",
        "        epochs = 5,\n",
        "        validation_data = valid_generator,\n",
        "        validation_steps = valid_generator.n // valid_generator.batch_size\n",
        "        )"
      ],
      "metadata": {
        "execution": {
          "iopub.status.busy": "2021-12-24T08:48:11.90941Z",
          "iopub.execute_input": "2021-12-24T08:48:11.910096Z"
        },
        "trusted": true,
        "id": "3jP26i2d6JC3"
      },
      "execution_count": null,
      "outputs": []
    },
    {
      "cell_type": "code",
      "source": [
        "model.save('final1_model.h5')"
      ],
      "metadata": {
        "id": "3uOGCGyy6JC4"
      },
      "execution_count": null,
      "outputs": []
    },
    {
      "cell_type": "code",
      "source": [],
      "metadata": {
        "id": "rWVuMeiE6JC4"
      },
      "execution_count": null,
      "outputs": []
    }
  ]
}