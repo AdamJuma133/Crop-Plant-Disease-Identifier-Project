{
  "metadata": {
    "kernelspec": {
      "language": "python",
      "display_name": "Python 3",
      "name": "python3"
    },
    "language_info": {
      "name": "python",
      "version": "3.10.12",
      "mimetype": "text/x-python",
      "codemirror_mode": {
        "name": "ipython",
        "version": 3
      },
      "pygments_lexer": "ipython3",
      "nbconvert_exporter": "python",
      "file_extension": ".py"
    },
    "kaggle": {
      "accelerator": "none",
      "dataSources": [
        {
          "sourceId": 658267,
          "sourceType": "datasetVersion",
          "datasetId": 277323
        },
        {
          "sourceId": 2574068,
          "sourceType": "datasetVersion",
          "datasetId": 1562973
        },
        {
          "sourceId": 6073860,
          "sourceType": "datasetVersion",
          "datasetId": 3476702
        },
        {
          "sourceId": 7316033,
          "sourceType": "datasetVersion",
          "datasetId": 4245440
        },
        {
          "sourceId": 7368147,
          "sourceType": "datasetVersion",
          "datasetId": 4280630
        },
        {
          "sourceId": 7424766,
          "sourceType": "datasetVersion",
          "datasetId": 4320051
        },
        {
          "sourceId": 7432568,
          "sourceType": "datasetVersion",
          "datasetId": 4325278
        },
        {
          "sourceId": 7440986,
          "sourceType": "datasetVersion",
          "datasetId": 4330898
        },
        {
          "sourceId": 7445029,
          "sourceType": "datasetVersion",
          "datasetId": 4280245
        },
        {
          "sourceId": 7445098,
          "sourceType": "datasetVersion",
          "datasetId": 4207557
        },
        {
          "sourceId": 7448166,
          "sourceType": "datasetVersion",
          "datasetId": 4335411
        },
        {
          "sourceId": 7510772,
          "sourceType": "datasetVersion",
          "datasetId": 4374455
        },
        {
          "sourceId": 10551519,
          "sourceType": "datasetVersion",
          "datasetId": 6528566
        },
        {
          "sourceId": 10576719,
          "sourceType": "datasetVersion",
          "datasetId": 6545276
        },
        {
          "sourceId": 10577065,
          "sourceType": "datasetVersion",
          "datasetId": 6545520
        },
        {
          "sourceId": 10577360,
          "sourceType": "datasetVersion",
          "datasetId": 6545722
        }
      ],
      "dockerImageVersionId": 30626,
      "isInternetEnabled": true,
      "language": "python",
      "sourceType": "notebook",
      "isGpuEnabled": false
    },
    "colab": {
      "name": "Plant Disease Classification Train Dataset",
      "provenance": [],
      "include_colab_link": true
    }
  },
  "nbformat_minor": 0,
  "nbformat": 4,
  "cells": [
    {
      "cell_type": "markdown",
      "metadata": {
        "id": "view-in-github",
        "colab_type": "text"
      },
      "source": [
        "<a href=\"https://colab.research.google.com/github/AdamJuma133/Crop-Plant-Disease-Identifier-Project/blob/main/Plant_Disease_Classification_Train_Dataset.ipynb\" target=\"_parent\"><img src=\"https://colab.research.google.com/assets/colab-badge.svg\" alt=\"Open In Colab\"/></a>"
      ]
    },
    {
      "source": [
        "# IMPORTANT: RUN THIS CELL IN ORDER TO IMPORT YOUR KAGGLE DATA SOURCES,\n",
        "# THEN FEEL FREE TO DELETE THIS CELL.\n",
        "# NOTE: THIS NOTEBOOK ENVIRONMENT DIFFERS FROM KAGGLE'S PYTHON\n",
        "# ENVIRONMENT SO THERE MAY BE MISSING LIBRARIES USED BY YOUR\n",
        "# NOTEBOOK.\n",
        "import kagglehub\n",
        "abdallahalidev_plantvillage_dataset_path = kagglehub.dataset_download('abdallahalidev/plantvillage-dataset')\n",
        "rizwan123456789_potato_disease_leaf_datasetpld_path = kagglehub.dataset_download('rizwan123456789/potato-disease-leaf-datasetpld')\n",
        "shuvokumarbasak4004_rose_leaf_disease_dataset_path = kagglehub.dataset_download('shuvokumarbasak4004/rose-leaf-disease-dataset')\n",
        "nirmalsankalana_rice_leaf_disease_image_path = kagglehub.dataset_download('nirmalsankalana/rice-leaf-disease-image')\n",
        "nirmalsankalana_esca_grapes_black_measles_dataset_path = kagglehub.dataset_download('nirmalsankalana/esca-grapes-black-measles-dataset')\n",
        "nirmalsankalana_sugarcane_leaf_disease_dataset_path = kagglehub.dataset_download('nirmalsankalana/sugarcane-leaf-disease-dataset')\n",
        "nirmalsankalana_potato_leaf_disease_dataset_path = kagglehub.dataset_download('nirmalsankalana/potato-leaf-disease-dataset')\n",
        "nirmalsankalana_grape400_dataset_path = kagglehub.dataset_download('nirmalsankalana/grape400-dataset')\n",
        "nirmalsankalana_apple_leaf_disease_dataset_path = kagglehub.dataset_download('nirmalsankalana/apple-leaf-disease-dataset')\n",
        "nirmalsankalana_cassava_leaf_disease_classification_path = kagglehub.dataset_download('nirmalsankalana/cassava-leaf-disease-classification')\n",
        "nirmalsankalana_apple_tree_leaf_disease_dataset_path = kagglehub.dataset_download('nirmalsankalana/apple-tree-leaf-disease-dataset')\n",
        "nirmalsankalana_potato_leaf_healthy_and_late_blight_path = kagglehub.dataset_download('nirmalsankalana/potato-leaf-healthy-and-late-blight')\n",
        "nirmalsankalana_potato_viral_disease_dataset_path = kagglehub.dataset_download('nirmalsankalana/potato-viral-disease-dataset')\n",
        "nirmalsankalana_rocole_a_robusta_coffee_leaf_images_dataset_path = kagglehub.dataset_download('nirmalsankalana/rocole-a-robusta-coffee-leaf-images-dataset')\n",
        "nirmalsankalana_watermelon_disease_dataset_path = kagglehub.dataset_download('nirmalsankalana/watermelon-disease-dataset')\n",
        "nirmalsankalana_dhan_shomadhan_path = kagglehub.dataset_download('nirmalsankalana/dhan-shomadhan')\n",
        "\n",
        "print('Data source import complete.')"
      ],
      "metadata": {
        "id": "oUmsgMonSB-t"
      },
      "cell_type": "code",
      "outputs": [],
      "execution_count": null
    },
    {
      "cell_type": "code",
      "source": [
        "import os\n",
        "import shutil\n",
        "import numpy as np\n",
        "import pandas as pd\n",
        "from PIL import Image"
      ],
      "metadata": {
        "_uuid": "8f2839f25d086af736a60e9eeb907d3b93b6e0e5",
        "_cell_guid": "b1076dfc-b9ad-4769-8c92-a6c4dae69d19",
        "execution": {
          "iopub.status.busy": "2025-02-16T07:14:53.920488Z",
          "iopub.execute_input": "2025-02-16T07:14:53.920844Z",
          "iopub.status.idle": "2025-02-16T07:14:54.318944Z",
          "shell.execute_reply.started": "2025-02-16T07:14:53.920815Z",
          "shell.execute_reply": "2025-02-16T07:14:54.317846Z"
        },
        "trusted": true,
        "id": "IZlusoWwSB-w"
      },
      "outputs": [],
      "execution_count": null
    },
    {
      "cell_type": "markdown",
      "source": [
        "##### Merged Datasets\n",
        "The final dataset is created by mergin following datasets\n",
        "\n",
        "| Dataset                      | no of Samples | no of classes | Link                                                                                                 | Source                                                                                  |\n",
        "| ---------------------------- | ------------- | ------------- | ---------------------------------------------------------------------------------------------------- | --------------------------------------------------------------------------------------- |\n",
        "| Rose Leaf Disease Dataset | 14910 | 3| [Rose Leaf Disease](https://www.kaggle.com/datasets/shuvokumarbasak4004/rose-leaf-disease-dataset) | Shuvo Kumar Basak |\n",
        "| Cassava Leaf Disease Dataset | 21400         | 5             | [Cassava Leaf Disease Dataset](https://tensorflow.google.cn/datasets/catalog/cassava)                | Ernest Mwebaze and Timnit Gebru and Andrea Frome and Solomon Nsumba and Jeremy Tusubira |\n",
        "| Rice Leaf Disease Images     | 5932          | 4             | [Rice Leaf Disease Images](https://data.mendeley.com/datasets/fwcj7stb8r/1)                          | Sethy, P. K., Barpanda, N. K., Rath, A. K., & Behera, S. K.                             |\n",
        "| PlantVillage                 | 54303         | 38            | [PlantVillage](https://www.tensorflow.org/datasets/catalog/plant_village)                            | David P. Hughes and Marcel Salath                                                       |\n",
        "| Potato Leaf Disease          | 4072          | 3             | [Potato Leaf Disease](https://www.mdpi.com/2079-9292/10/17/2064)                                     | images collected from the Central Punjab region of Pakistan                             |\n",
        "| Plant Pathelogy              | 2700          | 3             | [Plant Pathelogy](https://www.kaggle.com/c/plant-pathology-2020-fgvc7/data)                          |\n",
        "| RoCoLe | 1560 | 3 | [RoCoLe](https://www.kaggle.com/datasets/nirmalsankalana/rocole-a-robusta-coffee-leaf-images-dataset) | Parraga-Alava, Jorge; Cusme, Kevin; Loor, Angélica; Santander|\n",
        "| ESCA-dataset                 | 1768          | 2             | [ESCA-dataset](https://data.mendeley.com/datasets/89cnxc58kj/1)                                      |                                                                                         |\n",
        "| Sugercane Leaf Image Dataset | 2569          | 5             | [Sugercane Leaf Image Dataset](https://data.mendeley.com/datasets/9424skmnrk/1)                      |\n",
        "| Potato Leaf Disease          | 1500          | 3             | [Potato Leaf Disease](https://www.kaggle.com/datasets/muhammadardiputra/potato-leaf-disease-dataset) |                                                                                         |\n",
        "|Grapes 400 |  1600| 4|[Grapes 400](https://figshare.com/articles/dataset/Healthy_and_Disease_affected_Leaves_of_Grape_Plant/13083890/1)||\n",
        "| Potatoe Viral Disease Dataset | 1413|4|[Potato Viral Disease Dataset on both Foliar and Tuber](https://data.mendeley.com/datasets/rgfhzd5mzw/1)||\n",
        "|Apple Tree Leaf Disease Dataset|1641|5|[Apple Tree Leaf Disease Dataset](https://www.scidb.cn/en/detail?dataSetId=0e1f57004db842f99668d82183afd578)||"
      ],
      "metadata": {
        "id": "3sqmIo93SB-y"
      }
    },
    {
      "cell_type": "markdown",
      "source": [
        "## Functions"
      ],
      "metadata": {
        "id": "ZGSSVu2dSB-1"
      }
    },
    {
      "cell_type": "code",
      "source": [
        "def create_folder(folder_path, folder_name):\n",
        "    try:\n",
        "        new_folder_path = os.path.join(folder_path, folder_name)\n",
        "        if not os.path.exists(new_folder_path):\n",
        "            os.makedirs(new_folder_path)\n",
        "            print(f\"Folder '{folder_name}' created at '{folder_path}'.\")\n",
        "        else:\n",
        "            print(f\"Folder '{folder_name}' already exists at '{folder_path}'.\")\n",
        "\n",
        "    except Exception as e:\n",
        "        print(f\"Error: {e}\")"
      ],
      "metadata": {
        "execution": {
          "iopub.status.busy": "2025-02-16T07:14:54.320704Z",
          "iopub.execute_input": "2025-02-16T07:14:54.321213Z",
          "iopub.status.idle": "2025-02-16T07:14:54.327333Z",
          "shell.execute_reply.started": "2025-02-16T07:14:54.321181Z",
          "shell.execute_reply": "2025-02-16T07:14:54.326273Z"
        },
        "trusted": true,
        "id": "J4KsCJMTSB-3"
      },
      "outputs": [],
      "execution_count": null
    },
    {
      "cell_type": "code",
      "source": [
        "def copy_folder(src_folder, dest_folder):\n",
        "    try:\n",
        "        shutil.copytree(src_folder, dest_folder)\n",
        "        print(f\"Folder '{src_folder}' successfully copied to '{dest_folder}'.\")\n",
        "    except shutil.Error as e:\n",
        "        print(f\"Error: {e}\")\n",
        "    except Exception as e:\n",
        "        print(f\"Error: {e}\")"
      ],
      "metadata": {
        "execution": {
          "iopub.status.busy": "2025-02-16T07:14:54.32844Z",
          "iopub.execute_input": "2025-02-16T07:14:54.328744Z",
          "iopub.status.idle": "2025-02-16T07:14:54.345125Z",
          "shell.execute_reply.started": "2025-02-16T07:14:54.328717Z",
          "shell.execute_reply": "2025-02-16T07:14:54.344086Z"
        },
        "trusted": true,
        "id": "Zrjnr7-DSB-6"
      },
      "outputs": [],
      "execution_count": null
    },
    {
      "cell_type": "code",
      "source": [
        "def resize_manteniendo_proporcion(image, target_width=256, target_height=256):\n",
        "    try:\n",
        "        width, height = image.size\n",
        "\n",
        "        if width < height:\n",
        "            new_height = int(target_width * (height / width))\n",
        "            new_width = target_width\n",
        "        else:\n",
        "            new_width = int(target_height * (width / height))\n",
        "            new_height = target_height\n",
        "\n",
        "        # Resize the image\n",
        "        resized_image = image.resize((new_width, new_height))\n",
        "        resized_image = resized_image.convert('RGB')\n",
        "\n",
        "        return resized_image\n",
        "    except Exception as e:\n",
        "        print(f\"Error resizing image: {e}\")"
      ],
      "metadata": {
        "execution": {
          "iopub.status.busy": "2025-02-16T07:14:54.346448Z",
          "iopub.execute_input": "2025-02-16T07:14:54.346758Z",
          "iopub.status.idle": "2025-02-16T07:14:54.363354Z",
          "shell.execute_reply.started": "2025-02-16T07:14:54.346732Z",
          "shell.execute_reply": "2025-02-16T07:14:54.362162Z"
        },
        "trusted": true,
        "id": "mIRiaPstSB-8"
      },
      "outputs": [],
      "execution_count": null
    },
    {
      "cell_type": "code",
      "source": [
        "def get_last_index(index_file):\n",
        "    if os.path.exists(index_file):\n",
        "        with open(index_file, 'r') as f:\n",
        "            return int(f.read().strip())\n",
        "    return 0\n",
        "\n",
        "def update_last_index(index_file, index):\n",
        "    with open(index_file, 'w') as f:\n",
        "        f.write(str(index))"
      ],
      "metadata": {
        "execution": {
          "iopub.status.busy": "2025-02-16T07:14:54.365734Z",
          "iopub.execute_input": "2025-02-16T07:14:54.366152Z",
          "iopub.status.idle": "2025-02-16T07:14:54.378757Z",
          "shell.execute_reply.started": "2025-02-16T07:14:54.366109Z",
          "shell.execute_reply": "2025-02-16T07:14:54.377666Z"
        },
        "trusted": true,
        "id": "g30GOXtOSB--"
      },
      "outputs": [],
      "execution_count": null
    },
    {
      "cell_type": "code",
      "source": [
        "def copy_files(src_folder, dest_folder, index_file):\n",
        "    try:\n",
        "        if not os.path.exists(dest_folder):\n",
        "            os.makedirs(dest_folder)\n",
        "\n",
        "        current_index = get_last_index(index_file)\n",
        "\n",
        "        supported_formats = ('.jpg', '.jpeg', '.png')\n",
        "\n",
        "        for filename in os.listdir(src_folder):\n",
        "            if filename.lower().endswith(supported_formats):\n",
        "                src_path = os.path.join(src_folder, filename)\n",
        "                dest_path = os.path.join(dest_folder, f\"{current_index}{os.path.splitext(filename)[1].lower()}\")\n",
        "\n",
        "                with Image.open(src_path) as img:\n",
        "                    img = resize_manteniendo_proporcion(img)\n",
        "                    img.save(dest_path)\n",
        "\n",
        "                current_index += 1\n",
        "\n",
        "        update_last_index(index_file, current_index)\n",
        "\n",
        "        print(f\"All eligible files from '{src_folder}' successfully resized and copied to '{dest_folder}'.\")\n",
        "\n",
        "    except Exception as e:\n",
        "        print(f\"Error: {e}\")"
      ],
      "metadata": {
        "execution": {
          "iopub.status.busy": "2025-02-16T07:14:54.379912Z",
          "iopub.execute_input": "2025-02-16T07:14:54.380261Z",
          "iopub.status.idle": "2025-02-16T07:14:54.393958Z",
          "shell.execute_reply.started": "2025-02-16T07:14:54.380234Z",
          "shell.execute_reply": "2025-02-16T07:14:54.392897Z"
        },
        "trusted": true,
        "id": "ypEBAaWMSB_B"
      },
      "outputs": [],
      "execution_count": null
    },
    {
      "cell_type": "code",
      "source": [
        "base_dir = \"/kaggle/working/data\"\n",
        "if not os.path.exists(base_dir):\n",
        "    os.makedirs(base_dir)"
      ],
      "metadata": {
        "execution": {
          "iopub.status.busy": "2025-02-16T07:14:54.395464Z",
          "iopub.execute_input": "2025-02-16T07:14:54.395874Z",
          "iopub.status.idle": "2025-02-16T07:14:54.414755Z",
          "shell.execute_reply.started": "2025-02-16T07:14:54.395836Z",
          "shell.execute_reply": "2025-02-16T07:14:54.413585Z"
        },
        "trusted": true,
        "id": "CUjPvYO6SB_F"
      },
      "outputs": [],
      "execution_count": null
    },
    {
      "cell_type": "code",
      "source": [
        "base_dir = \"/kaggle/working/data\"\n",
        "index_file = \"/kaggle/working/index.txt\"\n",
        "if not os.path.exists(base_dir):\n",
        "    os.makedirs(base_dir)"
      ],
      "metadata": {
        "execution": {
          "iopub.status.busy": "2025-02-16T07:14:54.416022Z",
          "iopub.execute_input": "2025-02-16T07:14:54.416372Z",
          "iopub.status.idle": "2025-02-16T07:14:54.42835Z",
          "shell.execute_reply.started": "2025-02-16T07:14:54.416339Z",
          "shell.execute_reply": "2025-02-16T07:14:54.427354Z"
        },
        "trusted": true,
        "id": "I_qQX-a3SB_J"
      },
      "outputs": [],
      "execution_count": null
    },
    {
      "cell_type": "markdown",
      "source": [
        "## Folder List"
      ],
      "metadata": {
        "id": "y2FaVFS5SB_L"
      }
    },
    {
      "cell_type": "code",
      "source": [
        "folders = [\n",
        "    'Apple___alternaria_leaf_spot', 'Apple___black_rot', 'Apple___brown_spot', 'Apple___gray_spot', 'Apple___healthy', 'Apple___rust', 'Apple___scab',\n",
        "\n",
        "    'Bell_pepper___bacterial_spot', 'Bell_pepper___healthy',\n",
        "\n",
        "    'Blueberry___healthy',\n",
        "\n",
        "    'Cassava___bacterial_blight', 'Cassava___brown_streak_disease', 'Cassava___green_mottle',  'Cassava___healthy', 'Cassava___mosaic_disease',\n",
        "\n",
        "    'Cherry___healthy', 'Corn___gray_leaf_spot', 'Cherry___powdery_mildew',\n",
        "\n",
        "    'Coffee___healthy', 'Coffee___red_spider_mite', 'Coffee___rust',\n",
        "\n",
        "    'Corn___common_rust', 'Corn___healthy', 'Corn___gray_leaf_spot', 'Corn___northern_leaf_blight',\n",
        "\n",
        "    'Grape___black_rot', 'Grape___black_measles', 'Grape___healthy', 'Grape___isariopsis_leaf_spot', 'Grape_leaf_blight',\n",
        "\n",
        "    'Orange___citrus_greening',\n",
        "\n",
        "    'Peach___bacterial_spot', 'Peach___healthy',\n",
        "\n",
        "    'Potato___bacterial_wilt', 'Potato___early_blight', 'Potato___healthy', 'Potato___late_blight', 'Potato___nematode', 'Potato___pests', 'Potato___phytophthora',\n",
        "\n",
        "    'Raspberry___healthy',\n",
        "\n",
        "    'Rice___bacterial_blight', 'Rice___blast', 'Rice___brown_spot', 'Rice___tungro',\n",
        "\n",
        "    'Rose___healthy', 'Rose___rust', 'Rose___slug_sawfly',\n",
        "\n",
        "    'Soybean___healthy',\n",
        "\n",
        "    'Squash___powdery_mildew',\n",
        "\n",
        "    'Strawberry___healthy', 'Strawberry___leaf_scorch',\n",
        "\n",
        "    'Sugercane___healthy', 'Sugercane___mosaic', 'Sugercane___red_rot', 'Sugercane___rust', 'Sugercane___yellow_leaf',\n",
        "\n",
        "    'Tomato___bacterial_spot', 'Tomato___early_blight', 'Tomato___healthy', 'Tomato___late_blight', 'Tomato___leaf_mold',\n",
        "    'Tomato___leaf_curl', 'Tomato___mosaic_virus', 'Tomato___septoria_leaf_spot', 'Tomato___spider_mites', 'Tomato___target_spot',\n",
        "\n",
        "    'Watermelon___anthracnose', 'Watermelon___downy_mildew', 'Watermelon___healthy', 'Watermelon___mosaic_virus'\n",
        "    ]"
      ],
      "metadata": {
        "execution": {
          "iopub.status.busy": "2025-02-16T07:14:54.429603Z",
          "iopub.execute_input": "2025-02-16T07:14:54.429967Z",
          "iopub.status.idle": "2025-02-16T07:14:54.441886Z",
          "shell.execute_reply.started": "2025-02-16T07:14:54.42994Z",
          "shell.execute_reply": "2025-02-16T07:14:54.440798Z"
        },
        "trusted": true,
        "id": "DXgbUzUeSB_M"
      },
      "outputs": [],
      "execution_count": null
    },
    {
      "cell_type": "code",
      "source": [
        "len(folders)"
      ],
      "metadata": {
        "execution": {
          "iopub.status.busy": "2025-02-16T07:14:54.443292Z",
          "iopub.execute_input": "2025-02-16T07:14:54.443665Z",
          "iopub.status.idle": "2025-02-16T07:14:54.462217Z",
          "shell.execute_reply.started": "2025-02-16T07:14:54.443628Z",
          "shell.execute_reply": "2025-02-16T07:14:54.461302Z"
        },
        "trusted": true,
        "id": "LHOb9QCESB_O"
      },
      "outputs": [],
      "execution_count": null
    },
    {
      "cell_type": "code",
      "source": [
        "for folder in folders:\n",
        "    create_folder(base_dir, folder)"
      ],
      "metadata": {
        "execution": {
          "iopub.status.busy": "2025-02-16T07:14:54.463334Z",
          "iopub.execute_input": "2025-02-16T07:14:54.463597Z",
          "iopub.status.idle": "2025-02-16T07:14:54.479798Z",
          "shell.execute_reply.started": "2025-02-16T07:14:54.463575Z",
          "shell.execute_reply": "2025-02-16T07:14:54.478598Z"
        },
        "trusted": true,
        "id": "bn2FoisoSB_P"
      },
      "outputs": [],
      "execution_count": null
    },
    {
      "cell_type": "markdown",
      "source": [
        "## 1. Rose leaf disease dataset\n",
        "1. Rose___healthy\n",
        "2. Rose___rust\n",
        "3. Rose___slug_sawfly"
      ],
      "metadata": {
        "id": "oTmRGg0QSB_Q"
      }
    },
    {
      "cell_type": "code",
      "source": [
        "rose_train = \"/kaggle/input/rose-leaf-disease-dataset/Rose/train\"\n",
        "rose_test = \"/kaggle/input/rose-leaf-disease-dataset/Rose/test\"\n",
        "rose_val = \"/kaggle/input/rose-leaf-disease-dataset/Rose/validation\"\n",
        "\n",
        "rose_leaf_map={'Healthy_Leaf_Rose': 'Rose___healthy',\n",
        "                 'Rose_Rust': 'Rose___rust',\n",
        "                 'Rose_sawfly_Rose_slug': 'Rose___slug_sawfly'\n",
        "              }\n",
        "\n",
        "for class_ in rose_leaf_map.keys():\n",
        "    copy_files(f\"{rose_train}/{class_}\", f\"{base_dir}/{rose_leaf_map[class_]}\", index_file)\n",
        "    copy_files(f\"{rose_test}/{class_}\", f\"{base_dir}/{rose_leaf_map[class_]}\", index_file)\n",
        "    copy_files(f\"{rose_val}/{class_}\", f\"{base_dir}/{rose_leaf_map[class_]}\", index_file)"
      ],
      "metadata": {
        "trusted": true,
        "execution": {
          "iopub.status.busy": "2025-02-16T07:14:54.481268Z",
          "iopub.execute_input": "2025-02-16T07:14:54.482103Z"
        },
        "id": "WlOnOuVCSB_R"
      },
      "outputs": [],
      "execution_count": null
    },
    {
      "cell_type": "markdown",
      "source": [
        "## 2. Cassava Leaf Disease Dataset\n",
        "1. Cassava___bacterial_blight\n",
        "2. Cassava___brown_streak_disease\n",
        "3. Cassava___green_mottle\n",
        "4. Cassava___healthy\n",
        "5. Cassava___mosaic_disease"
      ],
      "metadata": {
        "id": "Xh3V8bqLSB_T"
      }
    },
    {
      "cell_type": "code",
      "source": [
        "cassava_base = \"/kaggle/input/cassava-leaf-disease-classification/data\"\n",
        "cassava_class_list = ['Cassava___bacterial_blight', 'Cassava___brown_streak_disease',\n",
        "                      'Cassava___green_mottle', 'Cassava___healthy',\n",
        "                      'Cassava___mosaic_disease']\n",
        "for class_ in cassava_class_list:\n",
        "    copy_files(f\"{cassava_base}/{class_}\", f\"{base_dir}/{class_}\", index_file)"
      ],
      "metadata": {
        "trusted": true,
        "id": "2xkudyHgSB_U"
      },
      "outputs": [],
      "execution_count": null
    },
    {
      "cell_type": "markdown",
      "source": [
        "## 3. Rice Leaf Disease Images\n",
        "1. Rice___bacterial_blight\n",
        "1. Rice___blast\n",
        "1. Rice___brown_spot\n",
        "1. Rice___tungro"
      ],
      "metadata": {
        "id": "4j0QgZw1SB_V"
      }
    },
    {
      "cell_type": "code",
      "source": [
        "rice_leaf_base = \"/kaggle/input/rice-leaf-disease-image\"\n",
        "rice_leaf_map={'Bacterialblight': 'Rice___bacterial_blight',\n",
        "                 'Blast': 'Rice___blast',\n",
        "                 'Brownspot': 'Rice___brown_spot',\n",
        "                 'Tungro': 'Rice___tungro'}\n",
        "for class_ in rice_leaf_map.keys():\n",
        "    copy_files(f\"{rice_leaf_base}/{class_}\", f\"{base_dir}/{rice_leaf_map[class_]}\", index_file)"
      ],
      "metadata": {
        "trusted": true,
        "id": "bckTs-5MSB_W"
      },
      "outputs": [],
      "execution_count": null
    },
    {
      "cell_type": "markdown",
      "source": [
        "## 4. PlantVillage\n",
        "1. Apple___Apple_scab\n",
        "1. Apple___Black_rot\n",
        "1. Apple___Cedar_apple_rust\n",
        "1. Apple___healthy\n",
        "1. Blueberry___healthy\n",
        "1. Cherry_(including_sour)___Powdery_mildew\n",
        "1. Cherry_(including_sour)___healthy\n",
        "1. Corn_(maize)___Cercospora_leaf_spot Gray_leaf_spot\n",
        "1. Corn_(maize)___Common_rust_\n",
        "1. Corn_(maize)___Northern_Leaf_Blight\n",
        "1. Corn_(maize)___healthy\n",
        "1. Grape___Black_rot\n",
        "1. Grape___Esca_(Black_Measles)\n",
        "1. Grape___Leaf_blight_(Isariopsis_Leaf_Spot)\n",
        "1. Grape___healthy\n",
        "1. Orange___Haunglongbing_(Citrus_greening)\n",
        "1. Peach___Bacterial_spot\n",
        "1. Peach___healthy\n",
        "1. Pepper,_bell___Bacterial_spot\n",
        "1. Pepper,_bell___healthy\n",
        "1. Potato___Early_blight\n",
        "1. Potato___Late_blight\n",
        "1. Potato___healthy\n",
        "1. Raspberry___healthy\n",
        "1. Soybean___healthy\n",
        "1. Squash___Powdery_mildew\n",
        "1. Strawberry___Leaf_scorch\n",
        "1. Strawberry___healthy\n",
        "1. Tomato___Bacterial_spot\n",
        "1. Tomato___Early_blight\n",
        "1. Tomato___Late_blight\n",
        "1. Tomato___Leaf_Mold\n",
        "1. Tomato___Septoria_leaf_spot\n",
        "1. Tomato___Spider_mites Two-spotted_spider_mite\n",
        "1. Tomato___Target_Spot\n",
        "1. Tomato___Tomato_Yellow_Leaf_Curl_Virus\n",
        "1. Tomato___Tomato_mosaic_virus\n",
        "1. Tomato___healthy"
      ],
      "metadata": {
        "id": "UXjsc7DdSB_X"
      }
    },
    {
      "cell_type": "code",
      "source": [
        "plant_village_base = \"/kaggle/input/plantvillage-dataset/color\"\n",
        "plant_village_map = {\n",
        "    'Apple___Apple_scab': 'Apple___scab',\n",
        "    'Apple___Black_rot': 'Apple___black_rot',\n",
        "    'Apple___Cedar_apple_rust': 'Apple___rust',\n",
        "    'Apple___healthy': 'Apple___healthy',\n",
        "    'Blueberry___healthy': 'Blueberry___healthy',\n",
        "    'Cherry_(including_sour)___Powdery_mildew': 'Cherry___powdery_mildew',\n",
        "    'Cherry_(including_sour)___healthy': 'Cherry___healthy',\n",
        "    'Corn_(maize)___Cercospora_leaf_spot Gray_leaf_spot': 'Corn___gray_leaf_spot',\n",
        "    'Corn_(maize)___Common_rust_': 'Corn___common_rust',\n",
        "    'Corn_(maize)___Northern_Leaf_Blight': 'Corn___northern_leaf_blight',\n",
        "    'Corn_(maize)___healthy': 'Corn___healthy',\n",
        "    'Grape___Black_rot': 'Grape___black_rot',\n",
        "    'Grape___Esca_(Black_Measles)': 'Grape___black_measles',\n",
        "    'Grape___Leaf_blight_(Isariopsis_Leaf_Spot)': 'Grape___Leaf_blight',\n",
        "    'Grape___healthy': 'Grape___healthy',\n",
        "    'Orange___Haunglongbing_(Citrus_greening)': 'Orange___citrus_greening',\n",
        "    'Peach___Bacterial_spot': 'Peach___bacterial_spot',\n",
        "    'Peach___healthy': 'Peach___healthy',\n",
        "    'Pepper,_bell___Bacterial_spot': 'Bell_pepper___bacterial_spot',\n",
        "    'Pepper,_bell___healthy': 'Bell_pepper___healthy',\n",
        "    'Potato___Early_blight': 'Potato___early_blight',\n",
        "    'Potato___Late_blight': 'Potato___late_blight',\n",
        "    'Potato___healthy': 'Potato___healthy',\n",
        "    'Raspberry___healthy': 'Raspberry___healthy',\n",
        "    'Soybean___healthy': 'Soybean___healthy',\n",
        "    'Squash___Powdery_mildew': 'Squash___powdery_mildew',\n",
        "    'Strawberry___Leaf_scorch': 'Strawberry___leaf_scorch',\n",
        "    'Strawberry___healthy': 'Strawberry___healthy',\n",
        "    'Tomato___Bacterial_spot': 'Tomato___bacterial_spot',\n",
        "    'Tomato___Early_blight': 'Tomato___early_blight',\n",
        "    'Tomato___Late_blight': 'Tomato___late_blight',\n",
        "    'Tomato___Leaf_Mold': 'Tomato___leaf_mold',\n",
        "    'Tomato___Septoria_leaf_spot': 'Tomato___septoria_leaf_spot',\n",
        "    'Tomato___Spider_mites Two-spotted_spider_mite': 'Tomato___spider_mites',\n",
        "    'Tomato___Target_Spot': 'Tomato___target_spot',\n",
        "    'Tomato___Tomato_Yellow_Leaf_Curl_Virus': 'Tomato___leaf_curl',\n",
        "    'Tomato___Tomato_mosaic_virus': 'Tomato___mosaic_virus',\n",
        "    'Tomato___healthy': 'Tomato___healthy'\n",
        "}\n",
        "\n",
        "for class_ in plant_village_map.keys():\n",
        "    copy_files(f\"{plant_village_base}/{class_}\", f\"{base_dir}/{plant_village_map[class_]}\", index_file)"
      ],
      "metadata": {
        "trusted": true,
        "id": "Si4_tDr9SB_Z"
      },
      "outputs": [],
      "execution_count": null
    },
    {
      "cell_type": "markdown",
      "source": [
        "## 5. Potatoe Leaf Disease\n",
        "1. Potato___early_blight\n",
        "1. Potato___late_blight\n",
        "1. Potato___healthy"
      ],
      "metadata": {
        "id": "wFFOVdtBSB_c"
      }
    },
    {
      "cell_type": "code",
      "source": [
        "potatoe_leaf_train = \"/kaggle/input/potato-disease-leaf-datasetpld/PLD_3_Classes_256/Training\"\n",
        "potatoe_leaf_test = \"/kaggle/input/potato-disease-leaf-datasetpld/PLD_3_Classes_256/Testing\"\n",
        "potatoe_leaf_val = \"/kaggle/input/potato-disease-leaf-datasetpld/PLD_3_Classes_256/Validation\"\n",
        "potatoe_leaf_map={\n",
        "    'Early_Blight': 'Potato___early_blight',\n",
        "    'Healthy': 'Potato___late_blight',\n",
        "    'Late_Blight': 'Potato___healthy'}\n",
        "for class_ in potatoe_leaf_map.keys():\n",
        "    copy_files(f\"{potatoe_leaf_train}/{class_}\", f\"{base_dir}/{potatoe_leaf_map[class_]}\", index_file)\n",
        "    copy_files(f\"{potatoe_leaf_test}/{class_}\", f\"{base_dir}/{potatoe_leaf_map[class_]}\", index_file)\n",
        "    copy_files(f\"{potatoe_leaf_val}/{class_}\", f\"{base_dir}/{potatoe_leaf_map[class_]}\", index_file)"
      ],
      "metadata": {
        "trusted": true,
        "id": "lDNcw5sySB_e"
      },
      "outputs": [],
      "execution_count": null
    },
    {
      "cell_type": "markdown",
      "source": [
        "## 6. Plant Pathelogy\n",
        "1. Apple___scab\n",
        "2. Apple___cedar_rust\n",
        "3. Apple___healthy"
      ],
      "metadata": {
        "id": "gKOE9Xd9SB_f"
      }
    },
    {
      "cell_type": "code",
      "source": [
        "plant_pathelogy_base = \"/kaggle/input/apple-leaf-disease-dataset/data\"\n",
        "plant_pathelogy_map={\n",
        "    'healthy': 'Apple___healthy',\n",
        "    'rust': 'Apple___rust',\n",
        "    'scab': 'Apple___scab'}\n",
        "for class_ in plant_pathelogy_map.keys():\n",
        "    copy_files(f\"{plant_pathelogy_base}/{class_}\", f\"{base_dir}/{plant_pathelogy_map[class_]}\", index_file)"
      ],
      "metadata": {
        "trusted": true,
        "id": "_hiENAoZSB_j"
      },
      "outputs": [],
      "execution_count": null
    },
    {
      "cell_type": "markdown",
      "source": [
        "## 7.RoCoLe: A Robusta Coffee Leaf Images Dataset\n",
        "1. coffee___healthy\n",
        "2. coffee___red_spider_mite\n",
        "3. coffee___rust"
      ],
      "metadata": {
        "id": "fIVuHQRtSB_m"
      }
    },
    {
      "cell_type": "code",
      "source": [
        "rocole_base = \"/kaggle/input/rocole-a-robusta-coffee-leaf-images-dataset\"\n",
        "rocole_base_map={'coffee___healthy': 'Coffee___healthy',\n",
        "                 'coffee___red_spider_mite': 'Coffee___red_spider_mite',\n",
        "                 'coffee___rust': 'Coffee___rust'\n",
        "                }\n",
        "for class_ in rocole_base_map.keys():\n",
        "    copy_files(f\"{rocole_base}/{class_}\", f\"{base_dir}/{rocole_base_map[class_]}\", index_file)"
      ],
      "metadata": {
        "trusted": true,
        "id": "RavInEonSB_n"
      },
      "outputs": [],
      "execution_count": null
    },
    {
      "cell_type": "markdown",
      "source": [
        "## 8. ESCA (grapes black measles) dataset\n",
        "1. Grape___healthy\n",
        "1. Grape___black_measles"
      ],
      "metadata": {
        "id": "N3E_Rao3SB_p"
      }
    },
    {
      "cell_type": "code",
      "source": [
        "esca_base = \"/kaggle/input/esca-grapes-black-measles-dataset\"\n",
        "esca_map={\n",
        "    'esca': 'Grape___black_measles',\n",
        "    'healthy': 'Grape___healthy'}\n",
        "for class_ in esca_map.keys():\n",
        "    copy_files(f\"{esca_base}/{class_}\", f\"{base_dir}/{esca_map[class_]}\", index_file)"
      ],
      "metadata": {
        "trusted": true,
        "id": "WbEnVKvDSB_q"
      },
      "outputs": [],
      "execution_count": null
    },
    {
      "cell_type": "markdown",
      "source": [
        "## 9. Sugercane Leaf Disease Dataset\n",
        "1. Sugercane___healthy\n",
        "1. Sugercane___mosaic\n",
        "1. Sugercane___red_rot\n",
        "1. Sugercane___rust\n",
        "1. Sugercane___yellow_leaf"
      ],
      "metadata": {
        "id": "OzBrn9RJSB_r"
      }
    },
    {
      "cell_type": "code",
      "source": [
        "sugercane_base = \"/kaggle/input/sugarcane-leaf-disease-dataset\"\n",
        "sugercane_map={\n",
        "    'Healthy': 'Sugercane___healthy',\n",
        "    'Mosaic': 'Sugercane___mosaic',\n",
        "    'RedRot': 'Sugercane___red_rot',\n",
        "    'Rust': 'Sugercane___rust',\n",
        "    'Yellow': 'Sugercane___yellow_leaf'\n",
        "}\n",
        "for class_ in sugercane_map.keys():\n",
        "    copy_files(f\"{sugercane_base}/{class_}\", f\"{base_dir}/{sugercane_map[class_]}\", index_file)"
      ],
      "metadata": {
        "trusted": true,
        "id": "5IO2XskxSB_t"
      },
      "outputs": [],
      "execution_count": null
    },
    {
      "cell_type": "markdown",
      "source": [
        "## 10. Potatoe Leaf Disease Dataset"
      ],
      "metadata": {
        "id": "l5tntsBkSB_u"
      }
    },
    {
      "cell_type": "code",
      "source": [
        "potatoe_base_1 = \"/kaggle/input/potato-leaf-disease-dataset\"\n",
        "potatoe_map_1={\n",
        "    'Bacteria': 'Potato___bacterial_wilt',\n",
        "    'Healthy': 'Potato___healthy',\n",
        "    'Nematode': 'Potato___nematode',\n",
        "    'Pest': 'Potato___pests',\n",
        "    'Phytopthora': 'Potato___phytophthora',\n",
        "}\n",
        "for class_ in potatoe_map_1.keys():\n",
        "    copy_files(f\"{potatoe_base_1}/{class_}\", f\"{base_dir}/{potatoe_map_1[class_]}\", index_file)"
      ],
      "metadata": {
        "trusted": true,
        "id": "GFYPGqbiSB_v"
      },
      "outputs": [],
      "execution_count": null
    },
    {
      "cell_type": "markdown",
      "source": [
        "## 11. Grape400 Dataset"
      ],
      "metadata": {
        "id": "P1jLw0VvSB_x"
      }
    },
    {
      "cell_type": "code",
      "source": [
        "grape400_base = \"/kaggle/input/grape400-dataset\"\n",
        "grape400_map={\n",
        "    'BlackMeasles': 'Grape___black_measles',\n",
        "    'BlackRot': 'Grape___black_rot',\n",
        "    'HealthyGrapes': 'Grape___healthy',\n",
        "    'LeafBlight': 'Grape___leaf_blight',\n",
        "}\n",
        "for class_ in grape400_map.keys():\n",
        "    copy_files(f\"{grape400_base}/{class_}\", f\"{base_dir}/{grape400_map[class_]}\", index_file)"
      ],
      "metadata": {
        "trusted": true,
        "id": "RaI582LNSB_z"
      },
      "outputs": [],
      "execution_count": null
    },
    {
      "cell_type": "markdown",
      "source": [
        "## 12. Potato Viral Disease Dataset\n",
        "1. Potato___healthy\n",
        "2. Potato___leafroll_virus\n",
        "3. Potato___mosaic_virus\n",
        "4. Potato___spindle_tuber_viroid"
      ],
      "metadata": {
        "id": "RQTz-CvaSB_0"
      }
    },
    {
      "cell_type": "code",
      "source": [
        "potatoe_base_2 = \"/kaggle/input/potato-viral-disease-dataset\"\n",
        "classes = ['Potato___healthy', 'Potato___leafroll_virus', 'Potato___mosaic_virus']\n",
        "for class_ in classes:\n",
        "    copy_files(f\"{potatoe_base_2}/{class_}\", f\"{base_dir}/{class_}\", index_file)"
      ],
      "metadata": {
        "trusted": true,
        "id": "-dBy6IPVSB_1"
      },
      "outputs": [],
      "execution_count": null
    },
    {
      "cell_type": "markdown",
      "source": [
        "## 13. Apple Tree Leaf Disease Dataset\n",
        "1. Apple___alternaria_leaf_spot\n",
        "2. Apple___brown_spot\n",
        "3. Apple___gray_spot\n",
        "4. Apple___healthy\n",
        "5. Apple___rust"
      ],
      "metadata": {
        "id": "929iEgTGSCAb"
      }
    },
    {
      "cell_type": "code",
      "source": [
        "apple_tree_leaf_base = \"/kaggle/input/apple-tree-leaf-disease-dataset\"\n",
        "apple_leaf_map={\n",
        "    'Alternaria leaf spot': 'Apple___alternaria_leaf_spot',\n",
        "    'Brown spot': 'Apple___brown_spot',\n",
        "    'Gray spot': 'Apple___gray_spot',\n",
        "    'Healthy leaf': 'Apple___healthy',\n",
        "    'Rust': 'Apple___rust'\n",
        "}\n",
        "for class_ in apple_leaf_map.keys():\n",
        "    copy_files(f\"{apple_tree_leaf_base}/{class_}\", f\"{base_dir}/{apple_leaf_map[class_]}\", index_file)"
      ],
      "metadata": {
        "trusted": true,
        "id": "S2WjIZYiSCAd"
      },
      "outputs": [],
      "execution_count": null
    },
    {
      "cell_type": "markdown",
      "source": [
        "## 14. WaterMelon Disease Dataset\n",
        "1. watermelon___anthracnose\n",
        "2. watermelon___downy_mildew\n",
        "3. watermelon___healthy\n",
        "4. watermelon___mosaic_virus"
      ],
      "metadata": {
        "id": "E00yKUZbSCAg"
      }
    },
    {
      "cell_type": "code",
      "source": [
        "watermelon_base = \"/kaggle/input/watermelon-disease-dataset\"\n",
        "watemelon_map={\n",
        "    'watermelon___anthracnose': 'Watermelon___anthracnose',\n",
        "    'watermelon___downy_mildew': 'Watermelon___downy_mildew',\n",
        "    'watermelon___healthy': 'Watermelon___healthy',\n",
        "    'watermelon___mosaic_virus': 'Watermelon___mosaic_virus'\n",
        "}\n",
        "for class_ in watemelon_map.keys():\n",
        "    copy_files(f\"{watermelon_base}/{class_}\", f\"{base_dir}/{watemelon_map[class_]}\", index_file)"
      ],
      "metadata": {
        "trusted": true,
        "id": "NbUq98Z1SCAi"
      },
      "outputs": [],
      "execution_count": null
    },
    {
      "cell_type": "markdown",
      "source": [
        "## 15. potato-leaf-healthy-and-late-blight\n",
        "1. Potato___healthy\n",
        "2. Potato___late_blight"
      ],
      "metadata": {
        "id": "1GaQ5uYBSCAk"
      }
    },
    {
      "cell_type": "code",
      "source": [
        "potatoe_base3 = \"/kaggle/input/potato-leaf-healthy-and-late-blight\"\n",
        "potatoe_map3={\n",
        "    'Healthy': 'Potato___healthy',\n",
        "    'Late Blight': 'Potato___late_blight'\n",
        "}\n",
        "for class_ in potatoe_map3.keys():\n",
        "    copy_files(f\"{potatoe_base3}/{class_}\", f\"{base_dir}/{potatoe_map3[class_]}\", index_file)"
      ],
      "metadata": {
        "trusted": true,
        "id": "1xYn-k1WSCAm"
      },
      "outputs": [],
      "execution_count": null
    }
  ]
}